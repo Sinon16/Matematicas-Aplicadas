{
  "cells": [
    {
      "cell_type": "markdown",
      "metadata": {
        "id": "xXjhMBMryPEY"
      },
      "source": [
        "# Problema 1"
      ]
    },
    {
      "cell_type": "markdown",
      "metadata": {
        "id": "hd5aYLdWxUrZ"
      },
      "source": [
        "Una red transmite datos a $100$ megabits por segundo. Crea una función utilizando *Python* que permita calcular la cantidad de datos transmitidos en una cierta cantidad de tiempo (en segundos). Luego utiliza la función y calcula cuántos datos se transmiten en:\n",
        "\n",
        "* $45$ segundos\n",
        "* $1,5$ minutos\n",
        "* $1$ hora\n",
        "\n"
      ]
    },
    {
      "cell_type": "code",
      "execution_count": 11,
      "metadata": {},
      "outputs": [
        {
          "name": "stdout",
          "output_type": "stream",
          "text": [
            "4500  mb\n",
            "9000  mb\n",
            "360000  mb\n"
          ]
        }
      ],
      "source": [
        "def red(x):\n",
        "    return 100*x\n",
        "\n",
        "print(red(45), \" mb\")\n",
        "print(red(90), \" mb\")\n",
        "print(red(3600), \" mb\")\n",
        "\n"
      ]
    },
    {
      "cell_type": "markdown",
      "metadata": {
        "id": "D8XA9m7wAPMm"
      },
      "source": [
        "# Problema 2"
      ]
    },
    {
      "cell_type": "markdown",
      "metadata": {
        "id": "GAqylLb8Cu5U"
      },
      "source": [
        "Utilizando la función definida en el problema $1$, genera un listado que muestre los datos transmitidos para tiempos desde $0$ hasta $1.000$ segundos con incrementos de $100$ segundos."
      ]
    },
    {
      "cell_type": "code",
      "execution_count": null,
      "metadata": {},
      "outputs": [
        {
          "name": "stdout",
          "output_type": "stream",
          "text": [
            "En  0  segundos 0  mb/s\n",
            "En  100  segundos 10000  mb/s\n",
            "En  200  segundos 20000  mb/s\n",
            "En  300  segundos 30000  mb/s\n",
            "En  400  segundos 40000  mb/s\n",
            "En  500  segundos 50000  mb/s\n",
            "En  600  segundos 60000  mb/s\n",
            "En  700  segundos 70000  mb/s\n",
            "En  800  segundos 80000  mb/s\n",
            "En  900  segundos 90000  mb/s\n",
            "En  1000  segundos 100000  mb/s\n"
          ]
        }
      ],
      "source": [
        "def red(x):\n",
        "    return 100*x\n",
        "\n",
        "for i in range(0, 1100 , 100):\n",
        "    print(\"En \", i , \" segundos\" ,red(i), \" mb\")"
      ]
    },
    {
      "cell_type": "markdown",
      "metadata": {
        "id": "Y28VfYtL2lU-"
      },
      "source": [
        "# Problema 3"
      ]
    },
    {
      "cell_type": "markdown",
      "metadata": {
        "id": "Z1-uAGdQ2xq2"
      },
      "source": [
        "La **latencia** de una red corresponde al tiempo que tarda un paquete de datos en viajar desde el punto de origen al destino. En otras palabras, es el tiempo que transcurre desde que se envía una solicitud de un dispositivo hasta que se recibe una respuesta del servidor u otro dispositivo.\n",
        "\n",
        "La latencia puede verse afectada por la velocidad de transmisión de los datos a través de los cables o conexiones inalámbricas, la distancia física entre los dispositivos, el tiempo que tarda un computador en procesar o reenviar los datos, etc.\n",
        "\n",
        "En redes de comunicación, como las videoconferencias, juegos en línea y transmisión de datos en tiempo real, es deseable una baja latencia, de lo contrario pueden existir retrasos en la comunicación y afectar negativamente la experiencia del usuario."
      ]
    },
    {
      "cell_type": "markdown",
      "metadata": {
        "id": "XFLW0fW26j83"
      },
      "source": [
        "Según el contexto mencionado, crea una función en *Python* que permita calcular la **latencia real** de una red dada una latencia estimada. Suponga que la latencia real es un $20\\%$ mayor a la latencia estimada.\n",
        "\n",
        "Calcule la latencia real para una latencia estimada de:\n",
        "\n",
        "a)   $200$ milisegundos.\n",
        "\n",
        "b)   $149$ milisegundos.\n",
        "\n",
        "c)   $74$ milisegundos.\n",
        "\n"
      ]
    },
    {
      "cell_type": "code",
      "execution_count": 14,
      "metadata": {},
      "outputs": [
        {
          "name": "stdout",
          "output_type": "stream",
          "text": [
            "La latencia estimada es 200 milisegundos, si se estima que la latencia real es 20% mayor dando resultado 240.0 milisegundos\n",
            "La latencia estimada es 149 milisegundos, si se estima que la latencia real es 20% mayor dando resultado 178.8 milisegundos\n",
            "La latencia estimada es 74 milisegundos, si se estima que la latencia real es 20% mayor dando resultado 88.8 milisegundos\n"
          ]
        }
      ],
      "source": [
        "def latencia_real(x):\n",
        "    return x*1.2\n",
        "print(f\"La latencia estimada es 200 milisegundos, si se estima que la latencia real es 20% mayor dando resultado {latencia_real(200)} milisegundos\")\n",
        "print(f\"La latencia estimada es 149 milisegundos, si se estima que la latencia real es 20% mayor dando resultado {round(latencia_real(149),1)} milisegundos\")\n",
        "print(f\"La latencia estimada es 74 milisegundos, si se estima que la latencia real es 20% mayor dando resultado {latencia_real(74)} milisegundos\")\n"
      ]
    },
    {
      "cell_type": "markdown",
      "metadata": {
        "id": "LGX3xr94E-Ix"
      },
      "source": [
        "# Problema 4"
      ]
    },
    {
      "cell_type": "markdown",
      "metadata": {
        "id": "wPT1xIfVGDCQ"
      },
      "source": [
        "Como parte de un proyecto de mejora, en el año $2021$ se instaló un cable de fibra óptica que une España con EEUU. El cable tiene un largo de $6.600$ $km$ y fue colocado por un barco a una velocidad de $1,85$ $km/h$.\n",
        "\n",
        "\n",
        "\n",
        "1.   Determine la forma algebraica de la función que permite determinar el largo del cable instalado (en km) a partir del tiempo transcurrido (en horas). Utilice la instrucción *def* para definir la función en *Python*.\n",
        "2.   Defina variable dependiente e independiente, indicando unidad de medida.\n",
        "3.   Determine el dominio contextualizado de la función.\n",
        "4.   Grafique la función utilizando la biblioteca *Matplotlib* considerando el dominio contextualizado.\n",
        "5.   ¿Cuántos metros de cable se instalaron al transcurrir $148$ horas? ¿Y transcurridas $2.300$ horas?\n",
        "6.   Si se han instalado $3.480$ kilometros de cable, ¿cuántas horas llevan de trabajo?\n",
        "7.   ¿Cuánto tiempo transcurrió para que se completara la obra?\n",
        "\n",
        "\n"
      ]
    },
    {
      "cell_type": "code",
      "execution_count": null,
      "metadata": {},
      "outputs": [],
      "source": [
<<<<<<< HEAD
        "def cable(x):\n",
=======
        "def c(x):\n",
>>>>>>> 3eee0befc4afc53fce493d4017b99f821f8fe0cc
        "    return x*1.85"
      ]
    },
    {
      "cell_type": "markdown",
      "metadata": {},
      "source": [
        "Variable independiente: t = tiempo transcurrido en horas (unidad: horas)\n",
<<<<<<< HEAD
=======
        "\n",
>>>>>>> 3eee0befc4afc53fce493d4017b99f821f8fe0cc
        "Variable dependiente: 𝑑(𝑡) = largo del cable instalado (unidad: kilómetros)"
      ]
    },
    {
      "cell_type": "markdown",
      "metadata": {},
      "source": [
        "$$ t_{max} = \\frac{6600}{1.85}= 3567.57 horas$$\n",
        "\n",
        "entonces el dominio es : $$ 0 \\le t \\le 3567.57 $$"
      ]
    },
    {
<<<<<<< HEAD
=======
      "cell_type": "code",
      "execution_count": 24,
      "metadata": {},
      "outputs": [
        {
          "name": "stderr",
          "output_type": "stream",
          "text": [
            "No handles with labels found to put in legend.\n"
          ]
        },
        {
          "data": {
            "image/png": "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",
            "text/plain": [
              "<Figure size 432x288 with 1 Axes>"
            ]
          },
          "metadata": {
            "needs_background": "light"
          },
          "output_type": "display_data"
        }
      ],
      "source": [
        "def c(x):\n",
        "    return x*1.85\n",
        "import numpy as np\n",
        "import matplotlib.pyplot as plt\n",
        "\n",
        "x = np.arange(0,3569,1)\n",
        "plt.plot(x, c(x))\n",
        "plt.axis([-1,3569,1,6601])\n",
        "plt.title('Nombre del gráfico')\n",
        "plt.xlabel('Nombre eje x')\n",
        "plt.ylabel('Nombre eje y')\n",
        "plt.grid(True)\n",
        "plt.legend()\n",
        "plt.show()"
      ]
    },
    {
      "cell_type": "code",
      "execution_count": null,
      "metadata": {},
      "outputs": [],
      "source": [
        "print(f\"El tiempo \")"
      ]
    },
    {
>>>>>>> 3eee0befc4afc53fce493d4017b99f821f8fe0cc
      "cell_type": "markdown",
      "metadata": {
        "id": "FMr921rUDxvV"
      },
      "source": [
        "# Problema 5"
      ]
    },
    {
      "cell_type": "markdown",
      "metadata": {
        "id": "Iuo-QM5vGSiW"
      },
      "source": [
        "Un turista ha llegado a Santiago y desea conocer algunos lugares de la ciudad. Ha decidido visitar el Palacio de la Moneda y desde ahí trasladarse al centro comercial \"Costanera Center\", utilizando algún medio de transporte que ofrece la ciudad.\n",
        "\n",
        "Si se traslada en metro deberá abordar en estación La Moneda y bajar en la estación Tobalaba ($9$ estaciones). La función $f(t)$ permite calcular la distancia recorrida utilizando el metro (en kilómetros) transcurridos $t$ minutos.\n",
        "\n",
        "$$f(t) = 0,4t$$\n",
        "\n",
        "Si se traslada en bus, el turista podrá observar la ciudad y otros atractivos en su viaje. La función $g(t)$ permite calcular la distancia recorrida en bus (en kilómetros) transcurridos $t$ minutos.\n",
        "\n",
        "$$g(t) = 0,3t$$\n",
        "\n",
        "Según la información anterior:\n",
        "\n",
        "1. Grafique ambas funciones, indicando el nombre de cada eje junto con su unidad de medida. Para realizar el gráfico utilice la biblioteca *Matplotlib*.\n",
        "2.  Si se sabe que el metro se demora $1,2$ minutos en llegar desde una estación a otra y espera $30$ segundos en cada estación, indique el dominio contextualizado para $f(t)$.\n",
        "3. Mediante análisis gráfico, indique cuál medio de transporte es más conveniente en términos de tiempo, para el turista. Justifique.\n",
        "4.  Si se sabe que desde estación La Moneda hasta Tobalaba son aproximadamente $6$ kilómetros ¿cuántos tiempo tardará el turista en llegar a su destino con cada una de las opciones?"
      ]
    },
    {
      "cell_type": "markdown",
      "metadata": {
        "id": "C5psSJY-S9x4"
      },
      "source": [
        "# Problema 6"
      ]
    },
    {
      "cell_type": "markdown",
      "metadata": {
        "id": "0v3a4hJATUgX"
      },
      "source": [
        "La temperatura de un servidor (en °C) puede ser modelada mediante la función\n",
        "\n",
        "$$T(t) = -0,5 t^{2} + 3 t + 20$$\n",
        "\n",
        "donde $t$ corresponde al tiempo transcurrido (en horas) en un día laboral. Considere que la jornada laboral comienza a las 08:00 horas y termina a las 17:00 horas.\n",
        "\n",
        "1.  Defina variable dependiente e independiente, indicando unidad de medida.\n",
        "2.  Determine el dominio contextualizado del problema.\n",
        "3.  Grafique la función utilizando *Python*.\n",
        "4.  Mediante un análisis gráfico, estime cuándo el servidor alcanza la máxima temperatura y calcule cuánto es.\n",
        "5.  Determine la temperatura del servidor a las 13:00 horas y al finalizar la jornada laboral.\n"
      ]
    },
    {
      "cell_type": "markdown",
<<<<<<< HEAD
=======
      "metadata": {},
      "source": [
        "**1-**\n",
        "\n",
        "**Variable dependiente**: T(t) :temperatura del servidor (°C)\n",
        "\n",
        "**Variable independiente**: t : tiempo transcurrido (horas)\n",
        "\n",
        "**2-**\n",
        "\n",
        "El dominio contextual es $[0;9]$ horas\n",
        "\n",
        "**3- grafico**"
      ]
    },
    {
      "cell_type": "code",
      "execution_count": 3,
      "metadata": {},
      "outputs": [],
      "source": [
        "def T(t):\n",
        "    return -0.5*t**2+3*t+20"
      ]
    },
    {
      "cell_type": "code",
      "execution_count": 7,
      "metadata": {},
      "outputs": [
        {
          "data": {
            "image/png": "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",
            "text/plain": [
              "<Figure size 432x288 with 1 Axes>"
            ]
          },
          "metadata": {
            "needs_background": "light"
          },
          "output_type": "display_data"
        }
      ],
      "source": [
        "import numpy as np\n",
        "import matplotlib.pyplot as plt\n",
        "\n",
        "x = np.arange(0,9.1,0.1)\n",
        "plt.plot(x, T(x), label = 'T(t)')\n",
        "plt.axis([-1,10,5,26])\n",
        "plt.title('Temperatura del servidor durante la jornada laboral')\n",
        "plt.xlabel('t: Tiempo transcurrido en horas')\n",
        "plt.ylabel('T(t): Temperatura del servidor en °C')\n",
        "plt.grid(True)\n",
        "plt.legend()\n",
        "plt.show()"
      ]
    },
    {
      "cell_type": "markdown",
      "metadata": {},
      "source": [
        "**4-**\n"
      ]
    },
    {
      "cell_type": "code",
      "execution_count": 19,
      "metadata": {},
      "outputs": [
        {
          "data": {
            "image/png": "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",
            "text/plain": [
              "<Figure size 432x288 with 1 Axes>"
            ]
          },
          "metadata": {
            "needs_background": "light"
          },
          "output_type": "display_data"
        }
      ],
      "source": [
        "import numpy as np\n",
        "import matplotlib.pyplot as plt\n",
        "\n",
        "x = np.arange(2,4.1,0.01)\n",
        "plt.plot(x, T(x), label = 'T(t)')\n",
        "plt.axis([1.8,4.5,23.9,24.6])\n",
        "plt.title('Temperatura del servidor durante la jornada laboral')\n",
        "plt.xlabel('t: Tiempo transcurrido en horas')\n",
        "plt.ylabel('T(t): Temperatura del servidor en °C')\n",
        "plt.grid(True)\n",
        "plt.legend()\n",
        "plt.show()"
      ]
    },
    {
      "cell_type": "markdown",
      "metadata": {},
      "source": [
        "La temperatura maxima se alcanzo transcurrido 3 horas de la jornada laboral (11 am) y alcanzo una temperatura de 24.5 °C"
      ]
    },
    {
      "cell_type": "markdown",
      "metadata": {},
      "source": [
        "**5-**\n",
        "\n",
        "hora inicio: 8:00 : t=0\n",
        "\n",
        "a las 13:00 t=5\n",
        "\n",
        "al terminar la jornada(17:00) t=9"
      ]
    },
    {
      "cell_type": "code",
      "execution_count": 9,
      "metadata": {},
      "outputs": [
        {
          "name": "stdout",
          "output_type": "stream",
          "text": [
            "La temperatura del servidor a la 13:00 horas es de 22.5 °C y al finalizar la jornada alcanzo una temperatura de 6.5 °C\n"
          ]
        }
      ],
      "source": [
        "tiempo1=T(5)\n",
        "tiempo2=T(9)\n",
        "\n",
        "print(f\"La temperatura del servidor a la 13:00 horas es de {tiempo1} °C y al finalizar la jornada alcanzo una temperatura de {tiempo2} °C\")"
      ]
    },
    {
      "cell_type": "markdown",
>>>>>>> 3eee0befc4afc53fce493d4017b99f821f8fe0cc
      "metadata": {
        "id": "pD_SzSu3jBkn"
      },
      "source": [
        "# Problema 7"
      ]
    },
    {
      "cell_type": "markdown",
      "metadata": {
        "id": "OJyAOwerjJ5m"
      },
      "source": [
        "El número de usuarios de una red social se puede modelar mediante la función:\n",
        "\n",
        "$$U(t) = \\frac{1.000}{1+9e^{-0.5t}}$$\n",
        "\n",
        "donde $t$ corresponde al tiempo transcurrido en meses.\n",
        "\n",
        "1.  Defina variable dependiente e independiente, indicando unidad de medida.\n",
        "2.  Determine la cantidad de usuarios transcurridos $12$ meses.\n",
        "3.  Grafique la función, utilizando la librería *Matplotlib*, para los primeros dos años de funcionamiento.\n",
        "4.  ¿Cuánto tiempo debe pasar para que la red social llegue a $800$ usuarios?"
      ]
    },
    {
      "cell_type": "markdown",
<<<<<<< HEAD
=======
      "metadata": {},
      "source": [
        "**1-**\n",
        "Variable independiente: t : Tiempo transcurrido en meses\n",
        "\n",
        "Variable dependiente : U(t) :  numero de usuarios en la  red social \n",
        "\n",
        "**2-**"
      ]
    },
    {
      "cell_type": "code",
      "execution_count": 48,
      "metadata": {},
      "outputs": [],
      "source": [
        "import numpy as np\n",
        "def U(t):\n",
        "    return 1000/(1+9*np.exp(-0.5*t))\n"
      ]
    },
    {
      "cell_type": "markdown",
      "metadata": {},
      "source": [
        "La cantidad de usuarios transcurridos 12 meses : "
      ]
    },
    {
      "cell_type": "code",
      "execution_count": 50,
      "metadata": {},
      "outputs": [
        {
          "name": "stdout",
          "output_type": "stream",
          "text": [
            "La cantidad de usuarios a los 12 meses son 978\n"
          ]
        }
      ],
      "source": [
        "print(f\"La cantidad de usuarios a los 12 meses son {round(U(12))}\")"
      ]
    },
    {
      "cell_type": "markdown",
      "metadata": {},
      "source": [
        "**3-** Grafico de los primeros 2 años"
      ]
    },
    {
      "cell_type": "code",
      "execution_count": 45,
      "metadata": {},
      "outputs": [
        {
          "data": {
            "image/png": "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",
            "text/plain": [
              "<Figure size 432x288 with 1 Axes>"
            ]
          },
          "metadata": {
            "needs_background": "light"
          },
          "output_type": "display_data"
        }
      ],
      "source": [
        "import matplotlib.pyplot as plt\n",
        "from scipy.optimize import fsolve\n",
        "\n",
        "x = np.arange(0,24.1,0.1)\n",
        "plt.plot(x, U(x), label = 'U(t)')\n",
        "plt.axis([-1,25,0,1000])\n",
        "plt.title('Usuarios a traves del tiempo')\n",
        "plt.xlabel('t : Tiempo Transcurrido en meses')\n",
        "plt.ylabel('U(t): cantidad de usuarios')\n",
        "plt.grid(True)\n",
        "plt.legend()\n",
        "plt.show()"
      ]
    },
    {
      "cell_type": "markdown",
      "metadata": {},
      "source": [
        "**4-** Tiempo transcurrido para llegar a 800 usuarios"
      ]
    },
    {
      "cell_type": "code",
      "execution_count": null,
      "metadata": {},
      "outputs": [
        {
          "name": "stdout",
          "output_type": "stream",
          "text": [
            "[7.16703788 7.16703788]\n"
          ]
        }
      ],
      "source": [
        "from scipy.optimize import fsolve\n",
        "def g(t):\n",
        "    return U(t)-800\n",
        "\n",
        "xo = np.linspace(5,10,1)\n",
        "solucion = fsolve(g, xo)\n",
        "\n",
        "print(solucion)"
      ]
    },
    {
      "cell_type": "markdown",
>>>>>>> 3eee0befc4afc53fce493d4017b99f821f8fe0cc
      "metadata": {
        "id": "TaZ_E6YwB0I4"
      },
      "source": [
        "# Problema 8"
      ]
    },
    {
      "cell_type": "markdown",
      "metadata": {
        "id": "HwpmaO5cDO43"
      },
      "source": [
        "El tiempo de ejecución de un algoritmo de ordenación (en segundos) se puede modelar mediante la función:\n",
        "\n",
        "$$A(n) = 0,01n^{2} + 0,5n + 2$$\n",
        "\n",
        "donde $n$ corresponde a la cantidad de elementos a ordenar. El algoritmo funciona desde las 23:00 horas hasta las 06:00 horas y debe ordenar $1.562$ elementos.\n",
        "\n",
        "1. Defina variable dependiente e independiente, indicando unidad de medida.\n",
        "2. Determine el dominio contextualizado de la función.\n",
        "3. Determine el tiempo de ejecución para ordenar $1.200$ elementos.\n",
        "4. Grafique, utilizando la biblioteca *Matplotlib*, la función $A(n)$.\n",
        "5. ¿Cuántos elementos ordena luego de $6$ horas de funcionamiento?"
      ]
    },
    {
      "cell_type": "markdown",
      "metadata": {
        "id": "yOcCVQKdOeGC"
      },
      "source": [
        "# Problema 9"
      ]
    },
    {
      "cell_type": "markdown",
      "metadata": {
        "id": "QZl4iQT2Ognb"
      },
      "source": [
        "El consumo de energía (en $kWh$) de un *Data Center* puede ser modelado por la función:\n",
        "\n",
        " $$E(t) = 50\\cdot \\log(t + 1) + 200$$\n",
        "\n",
        "donde $t$ corresponde al tiempo (en horas) desde el inicio del monitoreo.\n",
        "\n",
        "1. Defina variable dependiente e independiente, indicando unidad de medida.\n",
        "2. Determine el consumo de energía del *Data Center* después de $5$ horas.\n",
        "3. ¿Luego de cuántas horas el consumo será de $350$ kWh?\n",
        "4. Grafique, utilizando la biblioteca *Matplotlib*, la función $E(t)$."
      ]
    },
    {
      "cell_type": "markdown",
      "metadata": {
        "id": "OHKN7SIFyh2-"
      },
      "source": [
        "# Problema 10"
      ]
    },
    {
      "cell_type": "markdown",
      "metadata": {
        "id": "T1ooPV9Ny4mr"
      },
      "source": [
        "En gestión de proyectos, es crucial entender cómo se distribuye la carga de trabajo a lo largo del tiempo para planificar recursos, tiempo y esfuerzos de manera eficiente. Un fenómeno común es la disminución exponencial de la carga de trabajo, donde el esfuerzo requerido es mayor al inicio del proyecto y disminuye gradualmente a medida que se completan las tareas principales.\n",
        "\n",
        "Esta disminución exponencial puede modelarse matemáticamente para predecir y gestionar el trabajo de manera efectiva.\n",
        "\n",
        "<br>\n",
        "\n",
        "Un estudio sobre gestión de proyectos sostiene que la carga de trabajo en un proyecto (en porcentaje) puede ser modelada por la función:\n",
        "\n",
        "$$W(t) = 100e^{-0.1t}$$\n",
        "\n",
        "donde $t$ corresponde al tiempo transcurrido (en semanas) desde el inicio del proyecto.\n",
        "\n",
        "1. Defina variable dependiente e independiente, indicando unidad de medida.\n",
        "2. Determine la carga de trabajo al inicio del proyecto.\n",
        "3. ¿Cuál será la carga de trabajo luego de transcurridas $4$ semanas desde el inicio del proyecto?\n",
        "4. Si el proyecto duró $12$ semanas, ¿es correcto afirmar que la carga de trabajo llegó al $20\\%$?\n",
        "5. ¿Cuántas semanas han pasado desde el inicio del proyecto para que la carga de trabajo sea de $55\\%$?\n",
        "6. Utilizando *Matplotlib*, grafique la función considerando un tiempo máximo de $12$ semanas."
      ]
    }
  ],
  "metadata": {
    "colab": {
      "provenance": [],
      "toc_visible": true
    },
    "kernelspec": {
<<<<<<< HEAD
      "display_name": "Python 3",
=======
      "display_name": "base",
>>>>>>> 3eee0befc4afc53fce493d4017b99f821f8fe0cc
      "language": "python",
      "name": "python3"
    },
    "language_info": {
      "codemirror_mode": {
        "name": "ipython",
        "version": 3
      },
      "file_extension": ".py",
      "mimetype": "text/x-python",
      "name": "python",
      "nbconvert_exporter": "python",
      "pygments_lexer": "ipython3",
<<<<<<< HEAD
      "version": "3.13.5"
=======
      "version": "3.8.5"
>>>>>>> 3eee0befc4afc53fce493d4017b99f821f8fe0cc
    }
  },
  "nbformat": 4,
  "nbformat_minor": 0
}
